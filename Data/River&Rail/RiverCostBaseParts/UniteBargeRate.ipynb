{
 "metadata": {
  "language_info": {
   "codemirror_mode": {
    "name": "ipython",
    "version": 3
   },
   "file_extension": ".py",
   "mimetype": "text/x-python",
   "name": "python",
   "nbconvert_exporter": "python",
   "pygments_lexer": "ipython3",
   "version": "3.8.8"
  },
  "orig_nbformat": 4,
  "kernelspec": {
   "name": "python3",
   "display_name": "Python 3.8.8 64-bit ('sklearn': conda)"
  },
  "interpreter": {
   "hash": "fc9d95038ba0ad5cc59b8c0a5e5020706a1a87475f7090fcedaf29f08cbf7e37"
  }
 },
 "nbformat": 4,
 "nbformat_minor": 2,
 "cells": [
  {
   "source": [
    "'''\n",
    "Author: your name\n",
    "Date: 2021-07-12 17:27:41\n",
    "LastEditTime: 2021-07-12 17:29:03\n",
    "LastEditors: Please set LastEditors\n",
    "Description: Calculate Missippi Unite Barge Rate based on map\n",
    "FilePath: \\SYBM_Data_Cost&Production\\UniteRateByBarge.py\n",
    "'''"
   ],
   "cell_type": "markdown",
   "metadata": {}
  },
  {
   "cell_type": "code",
   "execution_count": 66,
   "metadata": {},
   "outputs": [
    {
     "output_type": "execute_result",
     "data": {
      "text/plain": [
       "     All Points    TWC      MM     ILL  ST LOUIS    CINC     LOH  CAR-MEM\n",
       "2          2003    NaN     NaN  160.00    136.00  131.00  128.00   118.00\n",
       "3          2003    NaN     NaN  160.00    136.00  134.00  133.00   120.00\n",
       "4          2003    NaN     NaN  237.00    216.00  168.00  163.00   130.00\n",
       "5          2003    NaN     NaN  239.00    214.00  174.00  173.00   133.00\n",
       "6          2003    NaN     NaN  223.00    172.00  156.00  153.00   118.00\n",
       "..          ...    ...     ...     ...       ...     ...     ...      ...\n",
       "963        2021  430.0  335.00  332.50    236.25  251.25  251.25   221.25\n",
       "964        2021  415.0  311.00  308.00    213.00  243.00  243.00   206.00\n",
       "965        2021  438.5  311.25  303.75    208.75  241.25  241.25   200.00\n",
       "966        2021  413.0  303.00  295.00    203.00  226.00  226.00   200.00\n",
       "967        2021  392.5  283.75  281.25    200.00  213.75  213.75   196.25\n",
       "\n",
       "[966 rows x 8 columns]"
      ],
      "text/html": "<div>\n<style scoped>\n    .dataframe tbody tr th:only-of-type {\n        vertical-align: middle;\n    }\n\n    .dataframe tbody tr th {\n        vertical-align: top;\n    }\n\n    .dataframe thead th {\n        text-align: right;\n    }\n</style>\n<table border=\"1\" class=\"dataframe\">\n  <thead>\n    <tr style=\"text-align: right;\">\n      <th></th>\n      <th>All Points</th>\n      <th>TWC</th>\n      <th>MM</th>\n      <th>ILL</th>\n      <th>ST LOUIS</th>\n      <th>CINC</th>\n      <th>LOH</th>\n      <th>CAR-MEM</th>\n    </tr>\n  </thead>\n  <tbody>\n    <tr>\n      <th>2</th>\n      <td>2003</td>\n      <td>NaN</td>\n      <td>NaN</td>\n      <td>160.00</td>\n      <td>136.00</td>\n      <td>131.00</td>\n      <td>128.00</td>\n      <td>118.00</td>\n    </tr>\n    <tr>\n      <th>3</th>\n      <td>2003</td>\n      <td>NaN</td>\n      <td>NaN</td>\n      <td>160.00</td>\n      <td>136.00</td>\n      <td>134.00</td>\n      <td>133.00</td>\n      <td>120.00</td>\n    </tr>\n    <tr>\n      <th>4</th>\n      <td>2003</td>\n      <td>NaN</td>\n      <td>NaN</td>\n      <td>237.00</td>\n      <td>216.00</td>\n      <td>168.00</td>\n      <td>163.00</td>\n      <td>130.00</td>\n    </tr>\n    <tr>\n      <th>5</th>\n      <td>2003</td>\n      <td>NaN</td>\n      <td>NaN</td>\n      <td>239.00</td>\n      <td>214.00</td>\n      <td>174.00</td>\n      <td>173.00</td>\n      <td>133.00</td>\n    </tr>\n    <tr>\n      <th>6</th>\n      <td>2003</td>\n      <td>NaN</td>\n      <td>NaN</td>\n      <td>223.00</td>\n      <td>172.00</td>\n      <td>156.00</td>\n      <td>153.00</td>\n      <td>118.00</td>\n    </tr>\n    <tr>\n      <th>...</th>\n      <td>...</td>\n      <td>...</td>\n      <td>...</td>\n      <td>...</td>\n      <td>...</td>\n      <td>...</td>\n      <td>...</td>\n      <td>...</td>\n    </tr>\n    <tr>\n      <th>963</th>\n      <td>2021</td>\n      <td>430.0</td>\n      <td>335.00</td>\n      <td>332.50</td>\n      <td>236.25</td>\n      <td>251.25</td>\n      <td>251.25</td>\n      <td>221.25</td>\n    </tr>\n    <tr>\n      <th>964</th>\n      <td>2021</td>\n      <td>415.0</td>\n      <td>311.00</td>\n      <td>308.00</td>\n      <td>213.00</td>\n      <td>243.00</td>\n      <td>243.00</td>\n      <td>206.00</td>\n    </tr>\n    <tr>\n      <th>965</th>\n      <td>2021</td>\n      <td>438.5</td>\n      <td>311.25</td>\n      <td>303.75</td>\n      <td>208.75</td>\n      <td>241.25</td>\n      <td>241.25</td>\n      <td>200.00</td>\n    </tr>\n    <tr>\n      <th>966</th>\n      <td>2021</td>\n      <td>413.0</td>\n      <td>303.00</td>\n      <td>295.00</td>\n      <td>203.00</td>\n      <td>226.00</td>\n      <td>226.00</td>\n      <td>200.00</td>\n    </tr>\n    <tr>\n      <th>967</th>\n      <td>2021</td>\n      <td>392.5</td>\n      <td>283.75</td>\n      <td>281.25</td>\n      <td>200.00</td>\n      <td>213.75</td>\n      <td>213.75</td>\n      <td>196.25</td>\n    </tr>\n  </tbody>\n</table>\n<p>966 rows × 8 columns</p>\n</div>"
     },
     "metadata": {},
     "execution_count": 66
    }
   ],
   "source": [
    "import pandas as pd\n",
    "import numpy as np\n",
    "import datetime\n",
    "\n",
    "bargeRateWeekly = pd.read_excel('.\\GTRFigure8Table9.xlsx',sheet_name='Table 9_data', header =2, usecols =\"A:H\")\n",
    "bargeRateWeekly = bargeRateWeekly.iloc[2:,:]\n",
    "bargeRateWeekly['All Points'] = pd.DatetimeIndex(bargeRateWeekly['All Points']).year\n",
    "bargeRateWeekly = bargeRateWeekly.replace(0, np.nan)\n",
    "bargeRateWeekly"
   ]
  },
  {
   "cell_type": "code",
   "execution_count": 67,
   "metadata": {},
   "outputs": [
    {
     "output_type": "execute_result",
     "data": {
      "text/plain": [
       "                   TWC          MM         ILL    ST LOUIS        CINC  \\\n",
       "All Points                                                               \n",
       "2003        216.000000  193.842105  189.443396  159.330189  162.311321   \n",
       "2004        240.916667  227.800000  223.846154  192.038462  195.485577   \n",
       "2005        390.942857  369.525000  361.961538  332.538462  329.307692   \n",
       "2006        511.558824  449.363636  429.461538  380.557692  388.673077   \n",
       "2007        458.240196  422.490244  399.054487  339.395833  362.027244   \n",
       "2008        543.427083  523.944444  502.117925  436.265723  457.330189   \n",
       "2009        369.102381  335.420543  346.685897  280.802885  306.075321   \n",
       "2010        473.896465  424.611905  404.307692  322.474359  374.437500   \n",
       "2011        515.026786  467.127451  460.810897  363.418269  431.488562   \n",
       "2012        478.087963  429.692982  422.551282  371.955128  384.740385   \n",
       "2013        432.610294  392.611111  401.443396  341.547170  347.146226   \n",
       "2014        583.816667  556.247549  544.318627  441.217949  481.887821   \n",
       "2015        462.034314  422.180556  402.993333  313.745098  336.642628   \n",
       "2016        422.981982  364.241228  323.027244  234.977564  260.083333   \n",
       "2017        380.355856  332.064103  326.844551  241.201923  295.814103   \n",
       "2018        523.405914  487.734649  459.160256  356.157051  393.506667   \n",
       "2019        434.598485  447.194444  432.298611  336.312057  338.000000   \n",
       "2020        444.482653  390.905405  371.544080  269.069826  298.468407   \n",
       "2021        437.785714  346.928571  372.778846  259.910256  289.954837   \n",
       "\n",
       "                   LOH     CAR-MEM  \n",
       "All Points                          \n",
       "2003        162.443396  141.094340  \n",
       "2004        196.490385  179.067308  \n",
       "2005        332.076923  313.807692  \n",
       "2006        390.346154  337.980769  \n",
       "2007        361.636218  318.389423  \n",
       "2008        457.845912  414.015723  \n",
       "2009        305.990385  257.490385  \n",
       "2010        374.432692  296.774038  \n",
       "2011        431.692810  334.246667  \n",
       "2012        384.772436  330.974359  \n",
       "2013        347.083333  283.575472  \n",
       "2014        481.767628  384.942308  \n",
       "2015        336.802885  272.024038  \n",
       "2016        259.554487  215.673203  \n",
       "2017        295.333333  221.522436  \n",
       "2018        394.923333  314.423077  \n",
       "2019        338.751634  311.959119  \n",
       "2020        298.468407  256.369048  \n",
       "2021        289.954837  235.653846  "
      ],
      "text/html": "<div>\n<style scoped>\n    .dataframe tbody tr th:only-of-type {\n        vertical-align: middle;\n    }\n\n    .dataframe tbody tr th {\n        vertical-align: top;\n    }\n\n    .dataframe thead th {\n        text-align: right;\n    }\n</style>\n<table border=\"1\" class=\"dataframe\">\n  <thead>\n    <tr style=\"text-align: right;\">\n      <th></th>\n      <th>TWC</th>\n      <th>MM</th>\n      <th>ILL</th>\n      <th>ST LOUIS</th>\n      <th>CINC</th>\n      <th>LOH</th>\n      <th>CAR-MEM</th>\n    </tr>\n    <tr>\n      <th>All Points</th>\n      <th></th>\n      <th></th>\n      <th></th>\n      <th></th>\n      <th></th>\n      <th></th>\n      <th></th>\n    </tr>\n  </thead>\n  <tbody>\n    <tr>\n      <th>2003</th>\n      <td>216.000000</td>\n      <td>193.842105</td>\n      <td>189.443396</td>\n      <td>159.330189</td>\n      <td>162.311321</td>\n      <td>162.443396</td>\n      <td>141.094340</td>\n    </tr>\n    <tr>\n      <th>2004</th>\n      <td>240.916667</td>\n      <td>227.800000</td>\n      <td>223.846154</td>\n      <td>192.038462</td>\n      <td>195.485577</td>\n      <td>196.490385</td>\n      <td>179.067308</td>\n    </tr>\n    <tr>\n      <th>2005</th>\n      <td>390.942857</td>\n      <td>369.525000</td>\n      <td>361.961538</td>\n      <td>332.538462</td>\n      <td>329.307692</td>\n      <td>332.076923</td>\n      <td>313.807692</td>\n    </tr>\n    <tr>\n      <th>2006</th>\n      <td>511.558824</td>\n      <td>449.363636</td>\n      <td>429.461538</td>\n      <td>380.557692</td>\n      <td>388.673077</td>\n      <td>390.346154</td>\n      <td>337.980769</td>\n    </tr>\n    <tr>\n      <th>2007</th>\n      <td>458.240196</td>\n      <td>422.490244</td>\n      <td>399.054487</td>\n      <td>339.395833</td>\n      <td>362.027244</td>\n      <td>361.636218</td>\n      <td>318.389423</td>\n    </tr>\n    <tr>\n      <th>2008</th>\n      <td>543.427083</td>\n      <td>523.944444</td>\n      <td>502.117925</td>\n      <td>436.265723</td>\n      <td>457.330189</td>\n      <td>457.845912</td>\n      <td>414.015723</td>\n    </tr>\n    <tr>\n      <th>2009</th>\n      <td>369.102381</td>\n      <td>335.420543</td>\n      <td>346.685897</td>\n      <td>280.802885</td>\n      <td>306.075321</td>\n      <td>305.990385</td>\n      <td>257.490385</td>\n    </tr>\n    <tr>\n      <th>2010</th>\n      <td>473.896465</td>\n      <td>424.611905</td>\n      <td>404.307692</td>\n      <td>322.474359</td>\n      <td>374.437500</td>\n      <td>374.432692</td>\n      <td>296.774038</td>\n    </tr>\n    <tr>\n      <th>2011</th>\n      <td>515.026786</td>\n      <td>467.127451</td>\n      <td>460.810897</td>\n      <td>363.418269</td>\n      <td>431.488562</td>\n      <td>431.692810</td>\n      <td>334.246667</td>\n    </tr>\n    <tr>\n      <th>2012</th>\n      <td>478.087963</td>\n      <td>429.692982</td>\n      <td>422.551282</td>\n      <td>371.955128</td>\n      <td>384.740385</td>\n      <td>384.772436</td>\n      <td>330.974359</td>\n    </tr>\n    <tr>\n      <th>2013</th>\n      <td>432.610294</td>\n      <td>392.611111</td>\n      <td>401.443396</td>\n      <td>341.547170</td>\n      <td>347.146226</td>\n      <td>347.083333</td>\n      <td>283.575472</td>\n    </tr>\n    <tr>\n      <th>2014</th>\n      <td>583.816667</td>\n      <td>556.247549</td>\n      <td>544.318627</td>\n      <td>441.217949</td>\n      <td>481.887821</td>\n      <td>481.767628</td>\n      <td>384.942308</td>\n    </tr>\n    <tr>\n      <th>2015</th>\n      <td>462.034314</td>\n      <td>422.180556</td>\n      <td>402.993333</td>\n      <td>313.745098</td>\n      <td>336.642628</td>\n      <td>336.802885</td>\n      <td>272.024038</td>\n    </tr>\n    <tr>\n      <th>2016</th>\n      <td>422.981982</td>\n      <td>364.241228</td>\n      <td>323.027244</td>\n      <td>234.977564</td>\n      <td>260.083333</td>\n      <td>259.554487</td>\n      <td>215.673203</td>\n    </tr>\n    <tr>\n      <th>2017</th>\n      <td>380.355856</td>\n      <td>332.064103</td>\n      <td>326.844551</td>\n      <td>241.201923</td>\n      <td>295.814103</td>\n      <td>295.333333</td>\n      <td>221.522436</td>\n    </tr>\n    <tr>\n      <th>2018</th>\n      <td>523.405914</td>\n      <td>487.734649</td>\n      <td>459.160256</td>\n      <td>356.157051</td>\n      <td>393.506667</td>\n      <td>394.923333</td>\n      <td>314.423077</td>\n    </tr>\n    <tr>\n      <th>2019</th>\n      <td>434.598485</td>\n      <td>447.194444</td>\n      <td>432.298611</td>\n      <td>336.312057</td>\n      <td>338.000000</td>\n      <td>338.751634</td>\n      <td>311.959119</td>\n    </tr>\n    <tr>\n      <th>2020</th>\n      <td>444.482653</td>\n      <td>390.905405</td>\n      <td>371.544080</td>\n      <td>269.069826</td>\n      <td>298.468407</td>\n      <td>298.468407</td>\n      <td>256.369048</td>\n    </tr>\n    <tr>\n      <th>2021</th>\n      <td>437.785714</td>\n      <td>346.928571</td>\n      <td>372.778846</td>\n      <td>259.910256</td>\n      <td>289.954837</td>\n      <td>289.954837</td>\n      <td>235.653846</td>\n    </tr>\n  </tbody>\n</table>\n</div>"
     },
     "metadata": {},
     "execution_count": 67
    }
   ],
   "source": [
    "bargeRateAnnually = bargeRateWeekly.groupby('All Points').mean(numeric_only=True)\n",
    "bargeRateAnnually"
   ]
  },
  {
   "cell_type": "code",
   "execution_count": 61,
   "metadata": {},
   "outputs": [],
   "source": [
    "#1976 traiff benchmark rate per ton\n",
    "benchmarkRate = { 'TC':6.19, 'MM':5.32, 'ILL':4.64, 'ST LOUIS':3.99,\n",
    "                 'CINC':4.69, 'LOH':4.04, 'CAR-MEM':3.14}\n",
    "\n",
    "#Route_dict\n",
    "Route_dict = {'West River Transit':['ST LOUIS','CINC'],\n",
    "              'Vision Transportation of Elk River | Big Lake | Rogers | Zimmerman':['TC','MM','ST LOUIS','CINC'],\n",
    "              'River Cities Public Transit':['ST LOUIS','CINC'],\n",
    "              'Two Rivers Transportation':['ST LOUIS','CINC'],\n",
    "              'Blue Rivers Public Transportation':['ST LOUIS','CINC'],\n",
    "              'Transport 360, LLC.':['ST LOUIS','CINC'],\n",
    "              'Five Rivers Transport, LLC':['ST LOUIS','CINC'],\n",
    "              'East Side River Transportation Inc':['ST LOUIS','CINC'],\n",
    "              'River City Transportation':['TC','ST LOUIS','CINC'],\n",
    "              'River Transportation Co':['CAR-MEM','LOH','CINC']}\n"
   ]
  },
  {
   "cell_type": "code",
   "execution_count": 62,
   "metadata": {},
   "outputs": [],
   "source": [
    "def GetUniteBargeRate(eleName, yaer):\n",
    "    # Calculate the uniteRete for a river elevator at one year \n",
    "    Routes = Route_dict[eleName]\n",
    "    rate = 0\n",
    "    for r in Routes:\n",
    "        rate = rate + benchmarkRate[r]*bargeRateAnnually.loc[yaer, r]/100\n",
    "    return round(rate,2)"
   ]
  },
  {
   "cell_type": "code",
   "execution_count": 65,
   "metadata": {},
   "outputs": [
    {
     "output_type": "execute_result",
     "data": {
      "text/plain": [
       "32.71"
      ]
     },
     "metadata": {},
     "execution_count": 65
    }
   ],
   "source": [
    "GetUniteBargeRate('River Transportation Co',2021)"
   ]
  }
 ]
}