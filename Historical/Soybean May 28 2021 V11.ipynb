{
 "cells": [
  {
   "cell_type": "code",
   "execution_count": 1,
   "id": "infrared-trinidad",
   "metadata": {},
   "outputs": [],
   "source": [
    "from gurobipy import *\n",
    "import pandas as pd\n",
    "import numpy as np"
   ]
  },
  {
   "cell_type": "code",
   "execution_count": 2,
   "id": "demonstrated-museum",
   "metadata": {},
   "outputs": [],
   "source": [
    "Year = 1   # Do not change!\n",
    "\n",
    "CElevts = 2\n",
    "LElevts = 2\n",
    "ETerminals = 2\n",
    "IChina = 2\n",
    "Alpha = 0.9    # Inventory deterioration rate\n",
    "\n",
    "Dom_P =  200   # Domestic Soybean price\n",
    "Beta1 = Beta2 = Beta3 = 1  # Regression coefficients\n",
    "Glo_P =  400   # Global Soybean price\n",
    "Gamma1 = Gamma2 =Gamma3 = 1 # Regression coefficients\n",
    "\n",
    "I_last = np.ones(CElevts)*100 # last year inventory for each country elevator"
   ]
  },
  {
   "cell_type": "code",
   "execution_count": 3,
   "id": "bigger-player",
   "metadata": {},
   "outputs": [],
   "source": [
    "# Parameters\n",
    "    ## from CElevts to LElevts by Trucks  e ,j\n",
    "Cost_C_L = np.ones([CElevts, LElevts]).reshape(CElevts,LElevts)\n",
    "    ## from LElevts to ETerminals by Barges j,k\n",
    "Cost_L_E = np.ones([LElevts, ETerminals]).reshape(LElevts, ETerminals)\n",
    "    ## from ETerminals to IChina by Ocean shipment k,m\n",
    "Cost_E_I = np.ones([ETerminals,IChina]).reshape(ETerminals,IChina)\n",
    "    ## from CElevts to Domestic Processing Facility C^P\n",
    "Cost_E_F = np.ones(CElevts).reshape(CElevts)\n",
    "    ##E Country elevators hoding cost C^H\n",
    "Cost_E_H = np.ones([CElevts]).reshape([CElevts])\n",
    "    ## Supply of each Country elevator\n",
    "S = np.ones([CElevts]).reshape([CElevts])\n",
    "    ## Demand of China each ports\n",
    "D = np.ones([IChina]).reshape([IChina])"
   ]
  },
  {
   "cell_type": "code",
   "execution_count": 4,
   "id": "arbitrary-reaction",
   "metadata": {},
   "outputs": [
    {
     "name": "stdout",
     "output_type": "stream",
     "text": [
      "Using license file C:\\Users\\heish\\gurobi.lic\n",
      "Academic license - for non-commercial use only\n"
     ]
    }
   ],
   "source": [
    "# Model\n",
    "model = Model(\"Soybean May 28 2021 V11\")"
   ]
  },
  {
   "cell_type": "code",
   "execution_count": 5,
   "id": "dense-minutes",
   "metadata": {},
   "outputs": [],
   "source": [
    "# Vars\n",
    "x = model.addVars(CElevts, LElevts, lb=0, name=\"x_ejt\")\n",
    "I = model.addVars(CElevts, lb=0, name='I_et')\n",
    "f = model.addVars(CElevts, lb=0, name='f_et')\n",
    "y = model.addVars(LElevts, ETerminals, lb=0, name='y_jkt')\n",
    "z = model.addVars(ETerminals, IChina, lb=0, name='z_kmt')\n",
    "## Slack Vars\n",
    "L = model.addVar(Year, vtype=GRB.BINARY, name='L-Climate')\n",
    "F = model.addVar(Year, vtype=GRB.BINARY, name='F-GOVPolicy')"
   ]
  },
  {
   "cell_type": "code",
   "execution_count": 6,
   "id": "recent-perfume",
   "metadata": {},
   "outputs": [
    {
     "name": "stderr",
     "output_type": "stream",
     "text": [
      "C:\\Users\\heish\\anaconda3\\envs\\gurobi\\lib\\site-packages\\ipykernel_launcher.py:3: DeprecationWarning: elementwise comparison failed; this will raise an error in the future.\n",
      "  This is separate from the ipykernel package so we can avoid doing imports until\n"
     ]
    }
   ],
   "source": [
    "# add constraints 2\n",
    "for e in range(CElevts):\n",
    "    model.addConstr(Alpha*I_last[e] + S[e] == f[e] + I[e] + quicksum(x[e,j] for j in range(LElevts)))"
   ]
  },
  {
   "cell_type": "code",
   "execution_count": 7,
   "id": "particular-avatar",
   "metadata": {},
   "outputs": [],
   "source": [
    "# add Constraints 3\n",
    "for j in range(LElevts):\n",
    "    model.addConstr(quicksum(x[e,j] for e in range(CElevts)) == quicksum(y[j,k] for k in range(ETerminals)))"
   ]
  },
  {
   "cell_type": "code",
   "execution_count": 8,
   "id": "homeless-remark",
   "metadata": {},
   "outputs": [],
   "source": [
    "# add Constratints 4\n",
    "for k in range(ETerminals):\n",
    "    model.addConstr(quicksum(y[j,k] for j in range(LElevts)) == quicksum(z[k,m] for m in range(IChina)))"
   ]
  },
  {
   "cell_type": "code",
   "execution_count": 9,
   "id": "hairy-sally",
   "metadata": {},
   "outputs": [],
   "source": [
    "# add Constratints 5\n",
    "for m in range(IChina):\n",
    "    model.addConstr(quicksum(z[k,m] for k in range(ETerminals)) <= D[m])"
   ]
  },
  {
   "cell_type": "code",
   "execution_count": 10,
   "id": "nearby-serve",
   "metadata": {},
   "outputs": [
    {
     "data": {
      "text/plain": [
       "<gurobi.Constr *Awaiting Model Update*>"
      ]
     },
     "execution_count": 10,
     "metadata": {},
     "output_type": "execute_result"
    }
   ],
   "source": [
    "# add Constratints 6\n",
    "model.addConstr(Dom_P == Beta1 + Beta2*L + Beta3*quicksum(I))"
   ]
  },
  {
   "cell_type": "code",
   "execution_count": 11,
   "id": "earlier-protest",
   "metadata": {},
   "outputs": [
    {
     "data": {
      "text/plain": [
       "<gurobi.Constr *Awaiting Model Update*>"
      ]
     },
     "execution_count": 11,
     "metadata": {},
     "output_type": "execute_result"
    }
   ],
   "source": [
    "# add Constratints 7\n",
    "model.addConstr(Glo_P == Gamma1 + Gamma2*F + Gamma3*quicksum(z))"
   ]
  },
  {
   "cell_type": "code",
   "execution_count": 12,
   "id": "rapid-causing",
   "metadata": {},
   "outputs": [],
   "source": [
    "# Obj\n",
    "obj = LinExpr()\n",
    "obj += quicksum((Glo_P-Cost_E_I[k,m])*z[k,m] for k in range(ETerminals) \n",
    "                                             for m in range(IChina))\n",
    "obj -= quicksum(Cost_C_L[e,j]*x[e,j] for e in range(CElevts)\n",
    "                                     for j in range(LElevts))\n",
    "obj += quicksum((Dom_P-Cost_E_F[e])*f[e] for e in range(CElevts))\n",
    "obj -= quicksum(Cost_E_H[e]*I[e] for e in range(CElevts))\n",
    "obj -= quicksum(Cost_L_E[j,k]*y[j,k] for j in range(LElevts)\n",
    "                                     for k in range(ETerminals))\n",
    "model.setObjective(\n",
    "    obj,\n",
    "    GRB.MAXIMIZE\n",
    ")"
   ]
  },
  {
   "cell_type": "code",
   "execution_count": 13,
   "id": "assumed-newsletter",
   "metadata": {},
   "outputs": [
    {
     "name": "stdout",
     "output_type": "stream",
     "text": [
      "Gurobi Optimizer version 9.0.3 build v9.0.3rc0 (win64)\n",
      "Optimize a model with 10 rows, 18 columns and 36 nonzeros\n",
      "Model fingerprint: 0x25e5125c\n",
      "Variable types: 16 continuous, 2 integer (2 binary)\n",
      "Coefficient statistics:\n",
      "  Matrix range     [1e+00, 1e+00]\n",
      "  Objective range  [1e+00, 4e+02]\n",
      "  Bounds range     [1e+00, 1e+00]\n",
      "  RHS range        [1e+00, 4e+02]\n",
      "Presolve removed 0 rows and 2 columns\n",
      "Presolve time: 0.00s\n",
      "\n",
      "Explored 0 nodes (0 simplex iterations) in 0.01 seconds\n",
      "Thread count was 1 (of 8 available processors)\n",
      "\n",
      "Solution count 0\n",
      "\n",
      "Model is infeasible or unbounded\n",
      "Best objective -, best bound -, gap -\n"
     ]
    }
   ],
   "source": [
    "model.update()\n",
    "model.optimize()\n",
    "model.write('model.lp')"
   ]
  }
 ],
 "metadata": {
  "kernelspec": {
   "display_name": "Python [conda env:gurobi] *",
   "language": "python",
   "name": "conda-env-gurobi-py"
  },
  "language_info": {
   "codemirror_mode": {
    "name": "ipython",
    "version": 3
   },
   "file_extension": ".py",
   "mimetype": "text/x-python",
   "name": "python",
   "nbconvert_exporter": "python",
   "pygments_lexer": "ipython3",
   "version": "3.7.7"
  }
 },
 "nbformat": 4,
 "nbformat_minor": 5
}
