{
 "cells": [
  {
   "cell_type": "code",
   "execution_count": 1,
   "id": "infrared-trinidad",
   "metadata": {},
   "outputs": [],
   "source": [
    "from gurobipy import *\n",
    "import pandas as pd\n",
    "import numpy as np"
   ]
  },
  {
   "cell_type": "code",
   "execution_count": 2,
   "id": "demonstrated-museum",
   "metadata": {},
   "outputs": [],
   "source": [
    "Year = 1   # Do not change!\n",
    "\n",
    "CElevts = 2\n",
    "LElevts = 2\n",
    "ETerminals = 2\n",
    "IChina = 2\n",
    "Alpha = 0.9    # Inventory deterioration rate\n",
    "#Dom_P =  200   # Domestic Soybean price\n",
    "Beta1 = 315.948\n",
    "Beta2 = 0\n",
    "Beta3 = -4.43476   # Regression coefficients\n",
    "#Glo_P =  400   # Global Soybean price\n",
    "Gamma1 = 117.09\n",
    "Gamma2 = 0\n",
    "Gamma3 = 5.6e-6  # Regression coefficients\n",
    "I_last = np.array([14.7,10]) # last year inventory for each country elevator #2019"
   ]
  },
  {
   "cell_type": "code",
   "execution_count": 3,
   "id": "312ae2f1",
   "metadata": {},
   "outputs": [],
   "source": [
    "# Parameters\n",
    "    ## from CElevts to LElevts by Trucks  e ,j\n",
    "Cost_C_L = np.array([[10,7],[8,12]])\n",
    "    ## from LElevts to ETerminals by Barges j,k\n",
    "Cost_L_E = np.array([[50,68], [55,40]])\n",
    "    ## from ETerminals to IChina by Ocean shipment k,m\n",
    "Cost_E_I = np.array([[100,140],[90,88]])\n",
    "    ## from CElevts to Domestic Processing Facility C^P\n",
    "Cost_E_F = np.array([13,15])\n",
    "    ##E Country elevators hoding cost C^H\n",
    "Cost_E_H = np.array([10,10])\n",
    "    ## Supply of each Country elevator\n",
    "S = np.array([46e6,51e6])\n",
    "    ## Demand of China each ports\n",
    "D = 88e6"
   ]
  },
  {
   "cell_type": "code",
   "execution_count": 4,
   "id": "arbitrary-reaction",
   "metadata": {},
   "outputs": [
    {
     "name": "stdout",
     "output_type": "stream",
     "text": [
      "Academic license - for non-commercial use only - expires 2022-08-22\n",
      "Using license file C:\\Users\\heish\\gurobi.lic\n"
     ]
    }
   ],
   "source": [
    "# Model\n",
    "model = Model(\"Soybean Jun 01 2021 V12\")"
   ]
  },
  {
   "cell_type": "code",
   "execution_count": 5,
   "id": "dense-minutes",
   "metadata": {},
   "outputs": [],
   "source": [
    "# Vars\n",
    "x = model.addVars(CElevts, LElevts, lb=0, name=\"x_ejt\")\n",
    "I = model.addVars(CElevts, lb=0, name='I_et')\n",
    "f = model.addVars(CElevts, lb=0, name='f_et')\n",
    "y = model.addVars(LElevts, ETerminals, lb=0, name='y_jkt')\n",
    "z = model.addVars(ETerminals, IChina, lb=0, name='z_kmt')\n",
    "Dp= model.addVar(vtype=GRB.CONTINUOUS, name='DomesticP')\n",
    "Gp= model.addVar(vtype=GRB.CONTINUOUS, name='GlobalP')\n",
    "## Slack Vars\n",
    "L = model.addVar(Year, vtype=GRB.BINARY, name='L-Climate')\n",
    "F = model.addVar(Year, vtype=GRB.BINARY, name='F-GOVPolicy')"
   ]
  },
  {
   "cell_type": "code",
   "execution_count": 6,
   "id": "recent-perfume",
   "metadata": {},
   "outputs": [
    {
     "name": "stderr",
     "output_type": "stream",
     "text": [
      "<ipython-input-6-55e517d125b4>:3: DeprecationWarning: elementwise comparison failed; this will raise an error in the future.\n",
      "  model.addConstr(Alpha*I_last[e] + S[e] == f[e] + I[e] + quicksum(x[e,j] for j in range(LElevts)))\n"
     ]
    }
   ],
   "source": [
    "# add constraints 2\n",
    "for e in range(CElevts):\n",
    "    model.addConstr(Alpha*I_last[e] + S[e] == f[e] + I[e] + quicksum(x[e,j] for j in range(LElevts)))"
   ]
  },
  {
   "cell_type": "code",
   "execution_count": 7,
   "id": "particular-avatar",
   "metadata": {},
   "outputs": [],
   "source": [
    "# add Constraints 3\n",
    "for j in range(LElevts):\n",
    "    model.addConstr(quicksum(x[e,j] for e in range(CElevts)) == quicksum(y[j,k] for k in range(ETerminals)))"
   ]
  },
  {
   "cell_type": "code",
   "execution_count": 8,
   "id": "homeless-remark",
   "metadata": {},
   "outputs": [],
   "source": [
    "# add Constratints 4\n",
    "for k in range(ETerminals):\n",
    "    model.addConstr(quicksum(y[j,k] for j in range(LElevts)) == quicksum(z[k,m] for m in range(IChina)))"
   ]
  },
  {
   "cell_type": "code",
   "execution_count": 9,
   "id": "hairy-sally",
   "metadata": {},
   "outputs": [
    {
     "data": {
      "text/plain": [
       "<gurobi.Constr *Awaiting Model Update*>"
      ]
     },
     "execution_count": 9,
     "metadata": {},
     "output_type": "execute_result"
    }
   ],
   "source": [
    "# add Constratints 5\n",
    "model.addConstr(quicksum(z[k,m] for k in range(ETerminals)\n",
    "                                for m in range(IChina)) <= D)"
   ]
  },
  {
   "cell_type": "code",
   "execution_count": 10,
   "id": "nearby-serve",
   "metadata": {},
   "outputs": [
    {
     "data": {
      "text/plain": [
       "<gurobi.Constr *Awaiting Model Update*>"
      ]
     },
     "execution_count": 10,
     "metadata": {},
     "output_type": "execute_result"
    }
   ],
   "source": [
    "# add Constratints 6\n",
    "model.addConstr(Dp == Beta1 + Beta2*L + Beta3*quicksum(I))"
   ]
  },
  {
   "cell_type": "code",
   "execution_count": 11,
   "id": "earlier-protest",
   "metadata": {},
   "outputs": [
    {
     "data": {
      "text/plain": [
       "<gurobi.Constr *Awaiting Model Update*>"
      ]
     },
     "execution_count": 11,
     "metadata": {},
     "output_type": "execute_result"
    }
   ],
   "source": [
    "# add Constratints 7\n",
    "model.addConstr(Gp == Gamma1 + Gamma2*F + Gamma3*quicksum(z))"
   ]
  },
  {
   "cell_type": "code",
   "execution_count": 12,
   "id": "rapid-causing",
   "metadata": {},
   "outputs": [],
   "source": [
    "# Obj\n",
    "obj = LinExpr()\n",
    "obj += quicksum((Gp-Cost_E_I[k,m])*z[k,m] for k in range(ETerminals) \n",
    "                                             for m in range(IChina))\n",
    "obj -= quicksum(Cost_C_L[e,j]*x[e,j] for e in range(CElevts)\n",
    "                                     for j in range(LElevts))\n",
    "obj += quicksum((Dp-Cost_E_F[e])*f[e] for e in range(CElevts))\n",
    "obj -= quicksum(Cost_E_H[e]*I[e] for e in range(CElevts))\n",
    "obj -= quicksum(Cost_L_E[j,k]*y[j,k] for j in range(LElevts)\n",
    "                                     for k in range(ETerminals))\n",
    "model.setObjective(\n",
    "    obj,\n",
    "    GRB.MAXIMIZE\n",
    ")"
   ]
  },
  {
   "cell_type": "code",
   "execution_count": 13,
   "id": "assumed-newsletter",
   "metadata": {},
   "outputs": [
    {
     "name": "stdout",
     "output_type": "stream",
     "text": [
      "Changed value of parameter NonConvex to 2\n",
      "   Prev: -1  Min: -1  Max: 2  Default: -1\n",
      "Gurobi Optimizer version 9.1.2 build v9.1.2rc0 (win64)\n",
      "Thread count: 4 physical cores, 4 logical processors, using up to 4 threads\n",
      "Optimize a model with 9 rows, 20 columns and 36 nonzeros\n",
      "Model fingerprint: 0x19b21018\n",
      "Model has 6 quadratic objective terms\n",
      "Variable types: 18 continuous, 2 integer (2 binary)\n",
      "Coefficient statistics:\n",
      "  Matrix range     [6e-06, 4e+00]\n",
      "  Objective range  [7e+00, 1e+02]\n",
      "  QObjective range [2e+00, 2e+00]\n",
      "  Bounds range     [1e+00, 1e+00]\n",
      "  RHS range        [1e+02, 9e+07]\n",
      "Presolve removed 0 rows and 2 columns\n",
      "Presolve time: 0.00s\n",
      "Presolved: 22 rows, 25 columns, 71 nonzeros\n",
      "Presolved model has 6 bilinear constraint(s)\n",
      "Variable types: 25 continuous, 0 integer (0 binary)\n",
      "\n",
      "Root relaxation: objective 4.428886e+10, 15 iterations, 0.00 seconds\n",
      "\n",
      "    Nodes    |    Current Node    |     Objective Bounds      |     Work\n",
      " Expl Unexpl |  Obj  Depth IntInf | Incumbent    BestBd   Gap | It/Node Time\n",
      "\n",
      "*    0     0               0    4.428886e+10 4.4289e+10  0.00%     -    0s\n",
      "\n",
      "Explored 0 nodes (15 simplex iterations) in 0.02 seconds\n",
      "Thread count was 4 (of 4 available processors)\n",
      "\n",
      "Solution count 1: 4.42889e+10 \n",
      "\n",
      "Optimal solution found (tolerance 1.00e-04)\n",
      "Best objective 4.428885875622e+10, best bound 4.428885875622e+10, gap 0.0000%\n"
     ]
    }
   ],
   "source": [
    "model.update()\n",
    "model.params.NonConvex = 2\n",
    "model.optimize()\n",
    "model.write('model.lp')"
   ]
  },
  {
   "cell_type": "code",
   "execution_count": 14,
   "id": "dc5cc646",
   "metadata": {},
   "outputs": [
    {
     "name": "stdout",
     "output_type": "stream",
     "text": [
      "Number of variables: 20\n",
      "Number of linear constraints: 9\n",
      "Objective value for current solution: 44288858756.22404\n"
     ]
    }
   ],
   "source": [
    "# Print solution\n",
    "print('Number of variables: ' + str(model.getAttr(\"NumVars\")))\n",
    "print('Number of linear constraints: '+ str(model.getAttr(\"NumConstrs\"))) \n",
    "print('Objective value for current solution: '+ str(model.getAttr(\"ObjVal\"))) "
   ]
  },
  {
   "cell_type": "code",
   "execution_count": 15,
   "id": "a7998da5",
   "metadata": {},
   "outputs": [
    {
     "name": "stdout",
     "output_type": "stream",
     "text": [
      "{(0, 0): <gurobi.Var x_ejt[0,0] (value 0.0)>, (0, 1): <gurobi.Var x_ejt[0,1] (value 46000013.23)>, (1, 0): <gurobi.Var x_ejt[1,0] (value 0.0)>, (1, 1): <gurobi.Var x_ejt[1,1] (value 41999986.77)>} \n",
      " {0: <gurobi.Var I_et[0] (value 0.0)>, 1: <gurobi.Var I_et[1] (value 0.0)>} \n",
      " {0: <gurobi.Var f_et[0] (value 0.0)>, 1: <gurobi.Var f_et[1] (value 9000022.229999997)>} \n",
      " {(0, 0): <gurobi.Var y_jkt[0,0] (value 0.0)>, (0, 1): <gurobi.Var y_jkt[0,1] (value 0.0)>, (1, 0): <gurobi.Var y_jkt[1,0] (value 0.0)>, (1, 1): <gurobi.Var y_jkt[1,1] (value 88000000.0)>} \n",
      " {(0, 0): <gurobi.Var z_kmt[0,0] (value 0.0)>, (0, 1): <gurobi.Var z_kmt[0,1] (value 0.0)>, (1, 0): <gurobi.Var z_kmt[1,0] (value 0.0)>, (1, 1): <gurobi.Var z_kmt[1,1] (value 88000000.0)>} \n",
      " <gurobi.Var DomesticP (value 315.948)> \n",
      " <gurobi.Var GlobalP (value 609.89)> \n",
      " <gurobi.Var L-Climate (value 1.0)> \n",
      " <gurobi.Var F-GOVPolicy (value 1.0)>\n"
     ]
    }
   ],
   "source": [
    "print(x,'\\n',I,'\\n',f,'\\n',y,'\\n',z,'\\n',Dp,'\\n',Gp,'\\n',L,'\\n',F)\n"
   ]
  }
 ],
 "metadata": {
  "kernelspec": {
   "display_name": "Python 3",
   "language": "python",
   "name": "python3"
  },
  "language_info": {
   "codemirror_mode": {
    "name": "ipython",
    "version": 3
   },
   "file_extension": ".py",
   "mimetype": "text/x-python",
   "name": "python",
   "nbconvert_exporter": "python",
   "pygments_lexer": "ipython3",
   "version": "3.8.8"
  }
 },
 "nbformat": 4,
 "nbformat_minor": 5
}
