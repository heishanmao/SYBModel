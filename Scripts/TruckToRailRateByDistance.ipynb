{
 "cells": [
  {
   "cell_type": "code",
   "execution_count": 33,
   "id": "third-consolidation",
   "metadata": {},
   "outputs": [],
   "source": [
    "import pandas as pd\n",
    "import numpy as np\n",
    "\n",
    "distanceByTruck = pd.read_csv('CountryToRailDistance.csv',index_col=0)"
   ]
  },
  {
   "cell_type": "code",
   "execution_count": 34,
   "id": "entire-illinois",
   "metadata": {},
   "outputs": [
    {
     "data": {
      "text/plain": "                                          Sioux Falls, SD   Minneapolis, MN   \\\nName                                                                           \nAgency Rail LLC                                     573.57            468.88   \nAirial Construction                                 563.18            403.98   \nAlliance Builders And Construction, Inc.            574.94            415.75   \nArtix Construction Inc                              561.44            402.24   \nAssumption Cooperative Grain                        646.82            543.78   \n\n                                          Fargo, ND   Council Bluffs, IA   \\\nName                                                                        \nAgency Rail LLC                               695.91               435.77   \nAirial Construction                           631.02               446.37   \nAlliance Builders And Construction, Inc.      642.78               463.36   \nArtix Construction Inc                        629.28               456.64   \nAssumption Cooperative Grain                  770.81               459.40   \n\n                                          Toledo, OH   Grand Island, NE   \\\nName                                                                       \nAgency Rail LLC                                328.75             584.82   \nAirial Construction                            268.53             595.41   \nAlliance Builders And Construction, Inc.       244.30             612.41   \nArtix Construction Inc                         267.13             605.68   \nAssumption Cooperative Grain                   395.23             566.35   \n\n                                          min_val  \nName                                               \nAgency Rail LLC                            328.75  \nAirial Construction                        268.53  \nAlliance Builders And Construction, Inc.   244.30  \nArtix Construction Inc                     267.13  \nAssumption Cooperative Grain               395.23  ",
      "text/html": "<div>\n<style scoped>\n    .dataframe tbody tr th:only-of-type {\n        vertical-align: middle;\n    }\n\n    .dataframe tbody tr th {\n        vertical-align: top;\n    }\n\n    .dataframe thead th {\n        text-align: right;\n    }\n</style>\n<table border=\"1\" class=\"dataframe\">\n  <thead>\n    <tr style=\"text-align: right;\">\n      <th></th>\n      <th>Sioux Falls, SD</th>\n      <th>Minneapolis, MN</th>\n      <th>Fargo, ND</th>\n      <th>Council Bluffs, IA</th>\n      <th>Toledo, OH</th>\n      <th>Grand Island, NE</th>\n      <th>min_val</th>\n    </tr>\n    <tr>\n      <th>Name</th>\n      <th></th>\n      <th></th>\n      <th></th>\n      <th></th>\n      <th></th>\n      <th></th>\n      <th></th>\n    </tr>\n  </thead>\n  <tbody>\n    <tr>\n      <th>Agency Rail LLC</th>\n      <td>573.57</td>\n      <td>468.88</td>\n      <td>695.91</td>\n      <td>435.77</td>\n      <td>328.75</td>\n      <td>584.82</td>\n      <td>328.75</td>\n    </tr>\n    <tr>\n      <th>Airial Construction</th>\n      <td>563.18</td>\n      <td>403.98</td>\n      <td>631.02</td>\n      <td>446.37</td>\n      <td>268.53</td>\n      <td>595.41</td>\n      <td>268.53</td>\n    </tr>\n    <tr>\n      <th>Alliance Builders And Construction, Inc.</th>\n      <td>574.94</td>\n      <td>415.75</td>\n      <td>642.78</td>\n      <td>463.36</td>\n      <td>244.30</td>\n      <td>612.41</td>\n      <td>244.30</td>\n    </tr>\n    <tr>\n      <th>Artix Construction Inc</th>\n      <td>561.44</td>\n      <td>402.24</td>\n      <td>629.28</td>\n      <td>456.64</td>\n      <td>267.13</td>\n      <td>605.68</td>\n      <td>267.13</td>\n    </tr>\n    <tr>\n      <th>Assumption Cooperative Grain</th>\n      <td>646.82</td>\n      <td>543.78</td>\n      <td>770.81</td>\n      <td>459.40</td>\n      <td>395.23</td>\n      <td>566.35</td>\n      <td>395.23</td>\n    </tr>\n  </tbody>\n</table>\n</div>"
     },
     "execution_count": 34,
     "metadata": {},
     "output_type": "execute_result"
    }
   ],
   "source": [
    "distanceByTruck['min_val'] = distanceByTruck.min(axis=1)\n",
    "distanceByTruck.head()"
   ]
  },
  {
   "cell_type": "code",
   "execution_count": 35,
   "id": "matched-header",
   "metadata": {},
   "outputs": [],
   "source": [
    "def NormalizateData(OriginData, NMin, NMax, OMax, OMin):\n",
    "    N = NMin + ((NMax-NMin)/(OMax-OMin))*(OriginData-OMin)\n",
    "    return (\"%.2f\"  %N)"
   ]
  },
  {
   "cell_type": "code",
   "execution_count": 36,
   "id": "smart-python",
   "metadata": {},
   "outputs": [
    {
     "data": {
      "text/plain": "['13.63',\n '11.64',\n '10.85',\n '11.60',\n '15.82',\n '13.75',\n '16.45',\n '14.87',\n '11.58',\n '10.85',\n '13.86',\n '10.98',\n '14.35',\n '15.15',\n '12.88',\n '12.16',\n '11.12',\n '11.32',\n '13.71',\n '13.49',\n '13.60',\n '13.37',\n '14.80',\n '10.85',\n '11.13',\n '13.52',\n '12.56',\n '16.06',\n '15.48',\n '11.04',\n '14.52',\n '12.41',\n '11.79',\n '13.97',\n '10.85',\n '15.09',\n '15.09',\n '14.07',\n '16.30',\n '11.96',\n '16.16',\n '11.12',\n '10.53',\n '14.20',\n '16.08',\n '13.99',\n '12.41',\n '14.72',\n '14.12',\n '17.08',\n '13.55',\n '14.67',\n '11.59',\n '13.40',\n '14.85',\n '10.85',\n '13.28',\n '10.90',\n '10.09',\n '13.03',\n '11.06',\n '9.75',\n '10.35',\n '10.14',\n '9.03',\n '10.00',\n '8.61',\n '9.11',\n '8.79',\n '9.22',\n '6.94',\n '7.29',\n '12.40',\n '9.06',\n '7.72',\n '12.25',\n '9.24',\n '10.78',\n '10.84',\n '7.73',\n '10.31',\n '6.13',\n '3.68',\n '6.38',\n '6.28',\n '6.38',\n '7.15',\n '6.06',\n '3.55',\n '3.55',\n '6.42',\n '7.29',\n '5.43',\n '6.69',\n '6.57',\n '4.47',\n '6.44',\n '7.99',\n '5.61',\n '4.36',\n '6.58',\n '6.72',\n '6.45',\n '3.46',\n '3.54',\n '4.31',\n '6.71',\n '5.77',\n '3.54',\n '6.34',\n '4.18',\n '7.21',\n '13.84',\n '14.37',\n '5.57',\n '4.43',\n '4.69',\n '5.92',\n '4.92',\n '4.92',\n '4.90',\n '4.80',\n '11.53',\n '11.53',\n '4.43',\n '5.35',\n '6.56',\n '4.60',\n '4.97',\n '4.34',\n '8.15',\n '5.07',\n '3.09',\n '7.21',\n '7.94',\n '4.90',\n '4.55',\n '4.08',\n '5.23',\n '4.58',\n '7.60',\n '4.82',\n '5.51',\n '14.83',\n '9.76',\n '8.09',\n '8.59',\n '8.72',\n '17.02',\n '11.80',\n '17.02',\n '8.72',\n '8.72',\n '8.87',\n '9.95',\n '8.72',\n '12.04',\n '15.82',\n '12.94',\n '17.02',\n '17.82',\n '9.50',\n '3.00',\n '4.16',\n '12.24',\n '9.34',\n '4.62',\n '7.85',\n '10.79',\n '10.30',\n '5.48',\n '6.92',\n '11.36',\n '9.12',\n '6.53',\n '9.29',\n '3.63',\n '12.40',\n '4.79',\n '13.92',\n '4.80',\n '4.62',\n '8.45',\n '3.00',\n '12.40',\n '6.59',\n '6.63',\n '13.24',\n '10.98',\n '14.11',\n '9.85',\n '10.82',\n '8.14',\n '8.16',\n '11.78',\n '12.33',\n '10.98',\n '13.52',\n '8.90',\n '12.23',\n '9.85',\n '9.33',\n '12.44',\n '9.22',\n '12.63',\n '9.40',\n '14.11',\n '7.76',\n '12.67',\n '16.59',\n '15.80',\n '12.74',\n '13.90',\n '12.86',\n '10.70',\n '12.74',\n '14.61',\n '13.62',\n '7.76',\n '18.00',\n '12.74',\n '14.12',\n '5.24',\n '5.47',\n '9.87',\n '4.58',\n '4.99']"
     },
     "execution_count": 36,
     "metadata": {},
     "output_type": "execute_result"
    }
   ],
   "source": [
    "OMax = distanceByTruck['min_val'].max()\n",
    "OMin = distanceByTruck['min_val'].min()\n",
    "Cost = []\n",
    "for i in range(len(distanceByTruck['min_val'])):\n",
    "    Cost.append(NormalizateData(distanceByTruck['min_val'].iloc[i], 3, 18, OMax, OMin))\n",
    "Cost"
   ]
  },
  {
   "cell_type": "code",
   "execution_count": 37,
   "id": "flush-operator",
   "metadata": {},
   "outputs": [],
   "source": [
    "# write trucks' cost from Country to Rail to file\n",
    "TCostByDistance = distanceByTruck.copy()\n",
    "TCostByDistance = TCostByDistance.drop('min_val',axis=1)\n",
    "\n",
    "for i in range(TCostByDistance.shape[0]):\n",
    "    for j in range(TCostByDistance.shape[1]):\n",
    "        TCostByDistance.iloc[i,j] = NormalizateData(distanceByTruck.iloc[i,j], 3, 18, OMax, OMin)\n",
    "    \n",
    "TCostByDistance.to_csv('..\\Data\\CostToRailByTruck.csv')"
   ]
  }
 ],
 "metadata": {
  "kernelspec": {
   "name": "pycharm-c42c2e44",
   "language": "python",
   "display_name": "PyCharm (SYBModel)"
  },
  "language_info": {
   "codemirror_mode": {
    "name": "ipython",
    "version": 3
   },
   "file_extension": ".py",
   "mimetype": "text/x-python",
   "name": "python",
   "nbconvert_exporter": "python",
   "pygments_lexer": "ipython3",
   "version": "3.8.8"
  },
  "pycharm": {
   "stem_cell": {
    "cell_type": "raw",
    "source": [
     "#!/usr/bin/env python\n",
     "# -*- coding: utf-8 -*-\n",
     "# @Time    : 19/07/2021 3:22 PM\n",
     "# @Author  : Scott\n",
     "# @Main    : Zheng@utk.edu\n",
     "# @File    : TruckToRailRateByDistance.ipynb\n",
     "# @Software: PyCharm\n",
     "# @Notes   : In: 'CountryToRailDistance.csv'\n",
     "#            Out: '..\\Data\\CostToRailByTruck.csv'\n"
    ],
    "metadata": {
     "collapsed": false
    }
   }
  }
 },
 "nbformat": 4,
 "nbformat_minor": 5
}